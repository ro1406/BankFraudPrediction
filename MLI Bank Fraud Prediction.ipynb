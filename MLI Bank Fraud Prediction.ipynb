{
 "cells": [
  {
   "cell_type": "markdown",
   "metadata": {},
   "source": [
    "# MLI Bank Fraud Prediction Challenge"
   ]
  },
  {
   "cell_type": "code",
   "execution_count": 1,
   "metadata": {},
   "outputs": [],
   "source": [
    "import pandas as pd"
   ]
  },
  {
   "cell_type": "code",
   "execution_count": 6,
   "metadata": {},
   "outputs": [],
   "source": [
    "mydf=pd.read_csv(\"/machine_learning_india_ai_challenge-dataset/CLEANED Training data - Python.csv\")"
   ]
  },
  {
   "cell_type": "code",
   "execution_count": 3,
   "metadata": {},
   "outputs": [],
   "source": [
    "mydf=pd.read_csv(\"/machine_learning_india_ai_challenge-dataset/TRAIN.csv\")"
   ]
  },
  {
   "cell_type": "code",
   "execution_count": 7,
   "metadata": {
    "scrolled": true
   },
   "outputs": [
    {
     "data": {
      "text/html": [
       "<div>\n",
       "<style scoped>\n",
       "    .dataframe tbody tr th:only-of-type {\n",
       "        vertical-align: middle;\n",
       "    }\n",
       "\n",
       "    .dataframe tbody tr th {\n",
       "        vertical-align: top;\n",
       "    }\n",
       "\n",
       "    .dataframe thead th {\n",
       "        text-align: right;\n",
       "    }\n",
       "</style>\n",
       "<table border=\"1\" class=\"dataframe\">\n",
       "  <thead>\n",
       "    <tr style=\"text-align: right;\">\n",
       "      <th></th>\n",
       "      <th>V1</th>\n",
       "      <th>V2</th>\n",
       "      <th>V3</th>\n",
       "      <th>V4</th>\n",
       "      <th>V5</th>\n",
       "      <th>V6</th>\n",
       "      <th>V7</th>\n",
       "      <th>V8</th>\n",
       "      <th>V9</th>\n",
       "      <th>V10</th>\n",
       "      <th>...</th>\n",
       "      <th>V21</th>\n",
       "      <th>V22</th>\n",
       "      <th>V23</th>\n",
       "      <th>V24</th>\n",
       "      <th>V25</th>\n",
       "      <th>V26</th>\n",
       "      <th>V27</th>\n",
       "      <th>V28</th>\n",
       "      <th>Amount</th>\n",
       "      <th>Class</th>\n",
       "    </tr>\n",
       "  </thead>\n",
       "  <tbody>\n",
       "    <tr>\n",
       "      <th>0</th>\n",
       "      <td>2.245295</td>\n",
       "      <td>-1.160960</td>\n",
       "      <td>-1.966682</td>\n",
       "      <td>-1.430190</td>\n",
       "      <td>-0.607246</td>\n",
       "      <td>-1.508696</td>\n",
       "      <td>-0.074415</td>\n",
       "      <td>-0.655096</td>\n",
       "      <td>-1.970141</td>\n",
       "      <td>1.607283</td>\n",
       "      <td>...</td>\n",
       "      <td>0.010490</td>\n",
       "      <td>0.521714</td>\n",
       "      <td>-0.064971</td>\n",
       "      <td>0.048849</td>\n",
       "      <td>0.383290</td>\n",
       "      <td>0.103970</td>\n",
       "      <td>-0.047350</td>\n",
       "      <td>-0.064800</td>\n",
       "      <td>74.75</td>\n",
       "      <td>0</td>\n",
       "    </tr>\n",
       "    <tr>\n",
       "      <th>1</th>\n",
       "      <td>1.278609</td>\n",
       "      <td>0.102574</td>\n",
       "      <td>0.512079</td>\n",
       "      <td>0.003930</td>\n",
       "      <td>-0.723474</td>\n",
       "      <td>-1.334105</td>\n",
       "      <td>0.029958</td>\n",
       "      <td>-0.296595</td>\n",
       "      <td>0.128119</td>\n",
       "      <td>-0.209865</td>\n",
       "      <td>...</td>\n",
       "      <td>-0.081470</td>\n",
       "      <td>-0.182506</td>\n",
       "      <td>0.078986</td>\n",
       "      <td>0.789993</td>\n",
       "      <td>0.219794</td>\n",
       "      <td>0.938359</td>\n",
       "      <td>-0.078720</td>\n",
       "      <td>0.008119</td>\n",
       "      <td>1.38</td>\n",
       "      <td>0</td>\n",
       "    </tr>\n",
       "    <tr>\n",
       "      <th>2</th>\n",
       "      <td>1.466457</td>\n",
       "      <td>0.026088</td>\n",
       "      <td>-0.499298</td>\n",
       "      <td>-0.674372</td>\n",
       "      <td>-0.144883</td>\n",
       "      <td>-1.178075</td>\n",
       "      <td>0.058089</td>\n",
       "      <td>-0.420145</td>\n",
       "      <td>-1.359651</td>\n",
       "      <td>0.210249</td>\n",
       "      <td>...</td>\n",
       "      <td>-0.234087</td>\n",
       "      <td>-0.710542</td>\n",
       "      <td>-0.001242</td>\n",
       "      <td>-0.174713</td>\n",
       "      <td>0.533719</td>\n",
       "      <td>-0.454779</td>\n",
       "      <td>0.001524</td>\n",
       "      <td>0.030935</td>\n",
       "      <td>10.95</td>\n",
       "      <td>0</td>\n",
       "    </tr>\n",
       "    <tr>\n",
       "      <th>3</th>\n",
       "      <td>-1.166525</td>\n",
       "      <td>0.255439</td>\n",
       "      <td>2.108464</td>\n",
       "      <td>0.135019</td>\n",
       "      <td>-0.072979</td>\n",
       "      <td>0.910821</td>\n",
       "      <td>0.755918</td>\n",
       "      <td>0.355528</td>\n",
       "      <td>-0.422820</td>\n",
       "      <td>-0.842826</td>\n",
       "      <td>...</td>\n",
       "      <td>0.136470</td>\n",
       "      <td>0.017496</td>\n",
       "      <td>0.121017</td>\n",
       "      <td>0.636266</td>\n",
       "      <td>0.492943</td>\n",
       "      <td>-0.750242</td>\n",
       "      <td>0.029124</td>\n",
       "      <td>0.091303</td>\n",
       "      <td>175.00</td>\n",
       "      <td>0</td>\n",
       "    </tr>\n",
       "    <tr>\n",
       "      <th>4</th>\n",
       "      <td>1.426857</td>\n",
       "      <td>-0.534910</td>\n",
       "      <td>-0.007129</td>\n",
       "      <td>-0.638556</td>\n",
       "      <td>-0.537868</td>\n",
       "      <td>-0.388634</td>\n",
       "      <td>-0.377139</td>\n",
       "      <td>-0.218566</td>\n",
       "      <td>-0.603431</td>\n",
       "      <td>0.473522</td>\n",
       "      <td>...</td>\n",
       "      <td>0.019992</td>\n",
       "      <td>0.174990</td>\n",
       "      <td>-0.236210</td>\n",
       "      <td>-0.385121</td>\n",
       "      <td>0.823957</td>\n",
       "      <td>-0.098765</td>\n",
       "      <td>0.007512</td>\n",
       "      <td>0.005304</td>\n",
       "      <td>29.05</td>\n",
       "      <td>0</td>\n",
       "    </tr>\n",
       "  </tbody>\n",
       "</table>\n",
       "<p>5 rows × 30 columns</p>\n",
       "</div>"
      ],
      "text/plain": [
       "         V1        V2        V3        V4        V5        V6        V7  \\\n",
       "0  2.245295 -1.160960 -1.966682 -1.430190 -0.607246 -1.508696 -0.074415   \n",
       "1  1.278609  0.102574  0.512079  0.003930 -0.723474 -1.334105  0.029958   \n",
       "2  1.466457  0.026088 -0.499298 -0.674372 -0.144883 -1.178075  0.058089   \n",
       "3 -1.166525  0.255439  2.108464  0.135019 -0.072979  0.910821  0.755918   \n",
       "4  1.426857 -0.534910 -0.007129 -0.638556 -0.537868 -0.388634 -0.377139   \n",
       "\n",
       "         V8        V9       V10  ...       V21       V22       V23       V24  \\\n",
       "0 -0.655096 -1.970141  1.607283  ...  0.010490  0.521714 -0.064971  0.048849   \n",
       "1 -0.296595  0.128119 -0.209865  ... -0.081470 -0.182506  0.078986  0.789993   \n",
       "2 -0.420145 -1.359651  0.210249  ... -0.234087 -0.710542 -0.001242 -0.174713   \n",
       "3  0.355528 -0.422820 -0.842826  ...  0.136470  0.017496  0.121017  0.636266   \n",
       "4 -0.218566 -0.603431  0.473522  ...  0.019992  0.174990 -0.236210 -0.385121   \n",
       "\n",
       "        V25       V26       V27       V28  Amount  Class  \n",
       "0  0.383290  0.103970 -0.047350 -0.064800   74.75      0  \n",
       "1  0.219794  0.938359 -0.078720  0.008119    1.38      0  \n",
       "2  0.533719 -0.454779  0.001524  0.030935   10.95      0  \n",
       "3  0.492943 -0.750242  0.029124  0.091303  175.00      0  \n",
       "4  0.823957 -0.098765  0.007512  0.005304   29.05      0  \n",
       "\n",
       "[5 rows x 30 columns]"
      ]
     },
     "execution_count": 7,
     "metadata": {},
     "output_type": "execute_result"
    }
   ],
   "source": [
    "mydf.head()"
   ]
  },
  {
   "cell_type": "code",
   "execution_count": 8,
   "metadata": {},
   "outputs": [
    {
     "data": {
      "text/plain": [
       "Index(['V1', 'V2', 'V3', 'V4', 'V5', 'V6', 'V7', 'V8', 'V9', 'V10', 'V11',\n",
       "       'V12', 'V13', 'V14', 'V15', 'V16', 'V17', 'V18', 'V19', 'V20', 'V21',\n",
       "       'V22', 'V23', 'V24', 'V25', 'V26', 'V27', 'V28', 'Amount', 'Class'],\n",
       "      dtype='object')"
      ]
     },
     "execution_count": 8,
     "metadata": {},
     "output_type": "execute_result"
    }
   ],
   "source": [
    "mydf.columns"
   ]
  },
  {
   "cell_type": "code",
   "execution_count": 9,
   "metadata": {},
   "outputs": [
    {
     "name": "stdout",
     "output_type": "stream",
     "text": [
      "0         0\n",
      "1         0\n",
      "2         0\n",
      "3         0\n",
      "4         0\n",
      "         ..\n",
      "246898    0\n",
      "246899    0\n",
      "246900    0\n",
      "246901    0\n",
      "246902    0\n",
      "Name: Class, Length: 246903, dtype: int64\n"
     ]
    }
   ],
   "source": [
    "classes=mydf['Class']\n",
    "print(classes)"
   ]
  },
  {
   "cell_type": "code",
   "execution_count": 10,
   "metadata": {},
   "outputs": [
    {
     "name": "stdout",
     "output_type": "stream",
     "text": [
      "246463 246903\n",
      "0.9982179236380279\n",
      "440\n"
     ]
    }
   ],
   "source": [
    "zeros=0\n",
    "total=0\n",
    "for i in classes:\n",
    "    if i==0:\n",
    "        zeros+=1\n",
    "    total+=1\n",
    "print(zeros,total)\n",
    "print(zeros/total)\n",
    "print(total-zeros)"
   ]
  },
  {
   "cell_type": "code",
   "execution_count": 11,
   "metadata": {},
   "outputs": [],
   "source": [
    "class AI:\n",
    "    def __init__(self):\n",
    "        self.model=None\n",
    "        self.acc=None\n",
    "        self.preds=[]\n",
    "        self.time=0\n",
    "        self.name=\"None\"\n",
    "        print(\"Model built.\")\n",
    "        \n",
    "    def linear(self,c=1):\n",
    "        self.name=\"SVC - Linear\"\n",
    "        from sklearn.svm import SVC\n",
    "        self.model=SVC(kernel='linear')\n",
    "        \n",
    "    def rbf(self,c=1,g='scale'):\n",
    "        self.name=\"SVC - RBF\"\n",
    "        from sklearn.svm import SVC\n",
    "        self.model=SVC(kernel='rbf', C=c,gamma=g)\n",
    "        \n",
    "    def poly(self,deg=3):\n",
    "        self.name=\"SVC - Poly\"\n",
    "        from sklearn.svm import SVC\n",
    "        self.model=SVC(kernel='poly', degree=deg)\n",
    "        \n",
    "    def decisionTree(self,c='gini'):\n",
    "        self.name=\"Decision Tree\"\n",
    "        from sklearn.tree import DecisionTreeClassifier\n",
    "        self.model=DecisionTreeClassifier(criterion=c)\n",
    "        \n",
    "    def Knn(self,nghbrs=5):\n",
    "        self.name=\"KNN\"\n",
    "        from sklearn.neighbors import KNeighborsClassifier\n",
    "        self.model=KNeighborsClassifier(n_neighbors=nghbrs)\n",
    "        \n",
    "    def RandomForest(self):\n",
    "        self.name=\"RandomForest\"\n",
    "        from sklearn.ensemble import RandomForestClassifier\n",
    "        self.model=RandomForestClassifier()\n",
    "        \n",
    "    def AdaBoost(self):\n",
    "        self.name=\"AdaBoost\"\n",
    "        from sklearn.ensemble import AdaBoostClassifier\n",
    "        from sklearn.ensemble import RandomForestClassifier\n",
    "        self.model=AdaBoostClassifier(base_estimator=RandomForestClassifier(), learning_rate=1,\\\n",
    "                                     n_estimators=500)\n",
    "    def MLP(self):\n",
    "        self.name=\"MLP\"\n",
    "        from sklearn.neural_network import MLPClassifier\n",
    "        self.model=MLPClassifier(hidden_layer_sizes=100,activation='relu')\n",
    "        \n",
    "    def XGB(self,maxd=3):\n",
    "        self.name=\"XGB\"\n",
    "        from sklearn.ensemble import GradientBoostingClassifier\n",
    "        self.model=GradientBoostingClassifier(max_depth=maxd,learning_rate=0.07,n_estimators=250)\n",
    "    \n",
    "    def train(self,x,y):\n",
    "        print(\"Training model...\")\n",
    "        import time\n",
    "        t0= time.time()\n",
    "        self.model.fit(x,y)\n",
    "        self.time=time.time()-t0\n",
    "        print(\"Training completed. Time taken:\", self.time)\n",
    "        \n",
    "    def predict(self,x):\n",
    "        #print(\"Predicting...\")\n",
    "        self.preds=self.model.predict(x)\n",
    "        return (self.preds)\n",
    "    \n",
    "    def evaluate(self,x,y):              #show error for train vs test\n",
    "        from sklearn import metrics\n",
    "        from sklearn.metrics import confusion_matrix\n",
    "        from sklearn.metrics import classification_report\n",
    "        from sklearn.metrics import roc_auc_score\n",
    "        print(\"Evaluating key parameters...\")\n",
    "        self.acc=self.model.score(x,y)\n",
    "        print(\"The accuracy is:\",self.acc)\n",
    "        print(f\"Confusion Matrix : \\n {confusion_matrix(y, self.preds)}\")\n",
    "        print(f\"Classification Report : \\n {classification_report(y, self.preds)}\")\n",
    "        print(f\"AROC score : \\n {roc_auc_score(y, self.preds)}\")       \n",
    "        \n",
    "    def countOnes(self,ytrain,ytest):\n",
    "        OnesInYtrain=0\n",
    "        for i in ytrain:\n",
    "            if i==1:\n",
    "                OnesInYtrain+=1\n",
    "        print(\"Y TRAIN:\")\n",
    "        print(OnesInYtrain)\n",
    "        print(len(ytrain))\n",
    "        print(OnesInYtrain/len(ytrain))\n",
    "        \n",
    "        OnesInYtest=0\n",
    "        for i in ytest:\n",
    "            if i==1:\n",
    "                OnesInYtest+=1\n",
    "        print(\"Y TEST:\")\n",
    "        print(OnesInYtest)\n",
    "        print(len(ytest))\n",
    "        print(1-(OnesInYtest/len(ytest)))\n",
    "        \n",
    "        OnesInPreds=0\n",
    "        for i in model.preds:\n",
    "            if i==1:\n",
    "                OnesInPreds+=1\n",
    "        print(\"PREDICTIONS:\")\n",
    "        print(OnesInPreds)\n",
    "        print(len(model.preds))\n",
    "        print(1-(OnesInPreds/len(model.preds)))"
   ]
  },
  {
   "cell_type": "markdown",
   "metadata": {},
   "source": [
    "# Trial without any special changes:"
   ]
  },
  {
   "cell_type": "code",
   "execution_count": 12,
   "metadata": {},
   "outputs": [],
   "source": [
    "import sklearn"
   ]
  },
  {
   "cell_type": "code",
   "execution_count": 13,
   "metadata": {},
   "outputs": [],
   "source": [
    "x=mydf.drop(columns=['Class'])#'Index','Class'])\n",
    "y=mydf['Class']"
   ]
  },
  {
   "cell_type": "code",
   "execution_count": 14,
   "metadata": {},
   "outputs": [],
   "source": [
    "from sklearn.model_selection import train_test_split\n",
    "xtrain,xtest,ytrain,ytest=train_test_split(x,y,test_size=0.2)"
   ]
  },
  {
   "cell_type": "markdown",
   "metadata": {},
   "source": [
    "# Try equal 1s and 0s"
   ]
  },
  {
   "cell_type": "code",
   "execution_count": 10,
   "metadata": {
    "scrolled": true
   },
   "outputs": [
    {
     "name": "stdout",
     "output_type": "stream",
     "text": [
      "440 440\n"
     ]
    }
   ],
   "source": [
    "xones=mydf.loc[mydf['Class']==1]\n",
    "xones=xones.drop(columns=['Class'])\n",
    "yones=[1 for i in range(len(xones))]\n",
    "print(len(xones),len(yones))"
   ]
  },
  {
   "cell_type": "code",
   "execution_count": 11,
   "metadata": {},
   "outputs": [],
   "source": [
    "xzeros=mydf.loc[mydf['Class']==0]\n",
    "xzeros=xzeros.drop(columns=['Class'])\n",
    "from sklearn.utils import shuffle\n",
    "xzeros=shuffle(xzeros)\n",
    "xzeros=xzeros[:440]\n",
    "yzeros=[0 for i in range(440)]"
   ]
  },
  {
   "cell_type": "code",
   "execution_count": 12,
   "metadata": {},
   "outputs": [],
   "source": [
    "equalx=pd.concat([xones,xzeros])\n",
    "equaly=yones+yzeros"
   ]
  },
  {
   "cell_type": "code",
   "execution_count": 45,
   "metadata": {},
   "outputs": [
    {
     "ename": "NameError",
     "evalue": "name 'equalx' is not defined",
     "output_type": "error",
     "traceback": [
      "\u001b[1;31m---------------------------------------------------------------------------\u001b[0m",
      "\u001b[1;31mNameError\u001b[0m                                 Traceback (most recent call last)",
      "\u001b[1;32m<ipython-input-45-cfa386008374>\u001b[0m in \u001b[0;36m<module>\u001b[1;34m\u001b[0m\n\u001b[0;32m      1\u001b[0m \u001b[1;32mfrom\u001b[0m \u001b[0msklearn\u001b[0m\u001b[1;33m.\u001b[0m\u001b[0mmodel_selection\u001b[0m \u001b[1;32mimport\u001b[0m \u001b[0mtrain_test_split\u001b[0m\u001b[1;33m\u001b[0m\u001b[1;33m\u001b[0m\u001b[0m\n\u001b[1;32m----> 2\u001b[1;33m \u001b[0mxtrain\u001b[0m\u001b[1;33m,\u001b[0m\u001b[0mxtest\u001b[0m\u001b[1;33m,\u001b[0m\u001b[0mytrain\u001b[0m\u001b[1;33m,\u001b[0m\u001b[0mytest\u001b[0m\u001b[1;33m=\u001b[0m\u001b[0mtrain_test_split\u001b[0m\u001b[1;33m(\u001b[0m\u001b[0mequalx\u001b[0m\u001b[1;33m,\u001b[0m\u001b[0mequaly\u001b[0m\u001b[1;33m,\u001b[0m\u001b[0mtest_size\u001b[0m\u001b[1;33m=\u001b[0m\u001b[1;36m0.2\u001b[0m\u001b[1;33m)\u001b[0m\u001b[1;33m\u001b[0m\u001b[1;33m\u001b[0m\u001b[0m\n\u001b[0m",
      "\u001b[1;31mNameError\u001b[0m: name 'equalx' is not defined"
     ]
    }
   ],
   "source": [
    "from sklearn.model_selection import train_test_split\n",
    "xtrain,xtest,ytrain,ytest=train_test_split(equalx,equaly,test_size=0.2)"
   ]
  },
  {
   "cell_type": "markdown",
   "metadata": {},
   "source": [
    "# Try increasing number of 1s to equal number of zeros"
   ]
  },
  {
   "cell_type": "code",
   "execution_count": 11,
   "metadata": {},
   "outputs": [],
   "source": [
    "from imblearn.combine import SMOTETomek\n",
    "smk=SMOTETomek()\n",
    "x_res,y_res=smk.fit_sample(x,y)"
   ]
  },
  {
   "cell_type": "code",
   "execution_count": 12,
   "metadata": {},
   "outputs": [],
   "source": [
    "from sklearn.model_selection import train_test_split\n",
    "xtrain,xtest,ytrain,ytest=train_test_split(x_res,y_res,test_size=0.2)"
   ]
  },
  {
   "cell_type": "markdown",
   "metadata": {},
   "source": [
    "# Trying the AI:"
   ]
  },
  {
   "cell_type": "code",
   "execution_count": 13,
   "metadata": {},
   "outputs": [
    {
     "name": "stdout",
     "output_type": "stream",
     "text": [
      "Model built.\n"
     ]
    }
   ],
   "source": [
    "model=AI()"
   ]
  },
  {
   "cell_type": "code",
   "execution_count": 35,
   "metadata": {},
   "outputs": [],
   "source": [
    "model.decisionTree()"
   ]
  },
  {
   "cell_type": "code",
   "execution_count": 18,
   "metadata": {},
   "outputs": [],
   "source": [
    "model.Knn()"
   ]
  },
  {
   "cell_type": "code",
   "execution_count": 36,
   "metadata": {},
   "outputs": [],
   "source": [
    "model.RandomForest()"
   ]
  },
  {
   "cell_type": "code",
   "execution_count": 21,
   "metadata": {},
   "outputs": [],
   "source": [
    "model.rbf()"
   ]
  },
  {
   "cell_type": "code",
   "execution_count": 117,
   "metadata": {},
   "outputs": [],
   "source": [
    "model.AdaBoost()"
   ]
  },
  {
   "cell_type": "code",
   "execution_count": 16,
   "metadata": {},
   "outputs": [],
   "source": [
    "model.MLP()"
   ]
  },
  {
   "cell_type": "code",
   "execution_count": 14,
   "metadata": {},
   "outputs": [],
   "source": [
    "model.poly()"
   ]
  },
  {
   "cell_type": "code",
   "execution_count": 17,
   "metadata": {},
   "outputs": [],
   "source": [
    "model.linear()"
   ]
  },
  {
   "cell_type": "code",
   "execution_count": 55,
   "metadata": {},
   "outputs": [],
   "source": [
    "model.XGB(10) #BEST ONE YET OMG XGB 10"
   ]
  },
  {
   "cell_type": "code",
   "execution_count": null,
   "metadata": {
    "scrolled": true
   },
   "outputs": [
    {
     "name": "stdout",
     "output_type": "stream",
     "text": [
      "SVC - Poly\n",
      "Training model...\n"
     ]
    }
   ],
   "source": [
    "print(model.name)\n",
    "model.train(xtrain,ytrain)\n",
    "model.predict(xtest)\n",
    "model.evaluate(xtest,ytest)\n",
    "#print()\n",
    "#model.countOnes(ytrain,ytest)"
   ]
  },
  {
   "cell_type": "code",
   "execution_count": null,
   "metadata": {
    "scrolled": true
   },
   "outputs": [],
   "source": [
    "#Just because i forgot to call evaluate once\n",
    "from sklearn.metrics import confusion_matrix\n",
    "from sklearn.metrics import classification_report\n",
    "from sklearn.metrics import roc_auc_score\n",
    "print(f\"Confusion Matrix :- \\n {confusion_matrix(ytest, model.preds)}\")\n",
    "print(f\"Classification Report :- \\n {classification_report(ytest, model.preds)}\")\n",
    "print(f\"AROC score :- \\n {roc_auc_score(ytest, model.preds)}\")   "
   ]
  },
  {
   "cell_type": "code",
   "execution_count": 14,
   "metadata": {},
   "outputs": [],
   "source": [
    "exam=pd.read_csv(\"/machine_learning_india_ai_challenge-dataset/TEST.csv\")"
   ]
  },
  {
   "cell_type": "code",
   "execution_count": 15,
   "metadata": {},
   "outputs": [
    {
     "data": {
      "text/html": [
       "<div>\n",
       "<style scoped>\n",
       "    .dataframe tbody tr th:only-of-type {\n",
       "        vertical-align: middle;\n",
       "    }\n",
       "\n",
       "    .dataframe tbody tr th {\n",
       "        vertical-align: top;\n",
       "    }\n",
       "\n",
       "    .dataframe thead th {\n",
       "        text-align: right;\n",
       "    }\n",
       "</style>\n",
       "<table border=\"1\" class=\"dataframe\">\n",
       "  <thead>\n",
       "    <tr style=\"text-align: right;\">\n",
       "      <th></th>\n",
       "      <th>Index</th>\n",
       "      <th>V1</th>\n",
       "      <th>V2</th>\n",
       "      <th>V3</th>\n",
       "      <th>V4</th>\n",
       "      <th>V5</th>\n",
       "      <th>V6</th>\n",
       "      <th>V7</th>\n",
       "      <th>V8</th>\n",
       "      <th>V9</th>\n",
       "      <th>...</th>\n",
       "      <th>V20</th>\n",
       "      <th>V21</th>\n",
       "      <th>V22</th>\n",
       "      <th>V23</th>\n",
       "      <th>V24</th>\n",
       "      <th>V25</th>\n",
       "      <th>V26</th>\n",
       "      <th>V27</th>\n",
       "      <th>V28</th>\n",
       "      <th>Amount</th>\n",
       "    </tr>\n",
       "  </thead>\n",
       "  <tbody>\n",
       "    <tr>\n",
       "      <th>0</th>\n",
       "      <td>0</td>\n",
       "      <td>1.755477</td>\n",
       "      <td>-0.860198</td>\n",
       "      <td>-1.629185</td>\n",
       "      <td>0.164162</td>\n",
       "      <td>0.027778</td>\n",
       "      <td>-0.330613</td>\n",
       "      <td>0.216770</td>\n",
       "      <td>-0.215280</td>\n",
       "      <td>1.187584</td>\n",
       "      <td>...</td>\n",
       "      <td>0.135129</td>\n",
       "      <td>-0.122173</td>\n",
       "      <td>-0.503867</td>\n",
       "      <td>-0.063954</td>\n",
       "      <td>-1.047319</td>\n",
       "      <td>-0.016514</td>\n",
       "      <td>-0.039022</td>\n",
       "      <td>-0.058861</td>\n",
       "      <td>-0.035955</td>\n",
       "      <td>186.76</td>\n",
       "    </tr>\n",
       "    <tr>\n",
       "      <th>1</th>\n",
       "      <td>1</td>\n",
       "      <td>-0.706506</td>\n",
       "      <td>1.155627</td>\n",
       "      <td>1.132585</td>\n",
       "      <td>2.742101</td>\n",
       "      <td>1.203095</td>\n",
       "      <td>0.013641</td>\n",
       "      <td>1.200743</td>\n",
       "      <td>-0.273633</td>\n",
       "      <td>-1.323403</td>\n",
       "      <td>...</td>\n",
       "      <td>-0.281283</td>\n",
       "      <td>0.352723</td>\n",
       "      <td>1.142657</td>\n",
       "      <td>-0.156382</td>\n",
       "      <td>1.139391</td>\n",
       "      <td>-0.151635</td>\n",
       "      <td>0.063306</td>\n",
       "      <td>-0.284146</td>\n",
       "      <td>-0.015198</td>\n",
       "      <td>21.18</td>\n",
       "    </tr>\n",
       "    <tr>\n",
       "      <th>2</th>\n",
       "      <td>2</td>\n",
       "      <td>1.043717</td>\n",
       "      <td>-0.928666</td>\n",
       "      <td>0.643312</td>\n",
       "      <td>-2.093695</td>\n",
       "      <td>-0.527878</td>\n",
       "      <td>1.420413</td>\n",
       "      <td>-1.053914</td>\n",
       "      <td>0.702897</td>\n",
       "      <td>2.450726</td>\n",
       "      <td>...</td>\n",
       "      <td>-0.264045</td>\n",
       "      <td>0.008873</td>\n",
       "      <td>0.568767</td>\n",
       "      <td>0.070359</td>\n",
       "      <td>-0.978165</td>\n",
       "      <td>0.258814</td>\n",
       "      <td>-0.726163</td>\n",
       "      <td>0.176843</td>\n",
       "      <td>0.005530</td>\n",
       "      <td>1.00</td>\n",
       "    </tr>\n",
       "    <tr>\n",
       "      <th>3</th>\n",
       "      <td>3</td>\n",
       "      <td>-4.194074</td>\n",
       "      <td>4.382897</td>\n",
       "      <td>-5.118363</td>\n",
       "      <td>4.455230</td>\n",
       "      <td>-4.812621</td>\n",
       "      <td>-1.224645</td>\n",
       "      <td>-7.281328</td>\n",
       "      <td>3.332250</td>\n",
       "      <td>-3.679659</td>\n",
       "      <td>...</td>\n",
       "      <td>0.579098</td>\n",
       "      <td>1.550473</td>\n",
       "      <td>0.614573</td>\n",
       "      <td>0.028521</td>\n",
       "      <td>0.013704</td>\n",
       "      <td>-0.149512</td>\n",
       "      <td>-0.131687</td>\n",
       "      <td>0.473934</td>\n",
       "      <td>0.473757</td>\n",
       "      <td>14.46</td>\n",
       "    </tr>\n",
       "    <tr>\n",
       "      <th>4</th>\n",
       "      <td>4</td>\n",
       "      <td>1.187587</td>\n",
       "      <td>0.173589</td>\n",
       "      <td>0.104741</td>\n",
       "      <td>1.143172</td>\n",
       "      <td>0.164552</td>\n",
       "      <td>0.162763</td>\n",
       "      <td>0.097302</td>\n",
       "      <td>0.001023</td>\n",
       "      <td>-0.013501</td>\n",
       "      <td>...</td>\n",
       "      <td>-0.039666</td>\n",
       "      <td>-0.112873</td>\n",
       "      <td>-0.163529</td>\n",
       "      <td>-0.231334</td>\n",
       "      <td>-0.469322</td>\n",
       "      <td>0.832111</td>\n",
       "      <td>-0.312343</td>\n",
       "      <td>0.019521</td>\n",
       "      <td>0.005464</td>\n",
       "      <td>27.00</td>\n",
       "    </tr>\n",
       "  </tbody>\n",
       "</table>\n",
       "<p>5 rows × 30 columns</p>\n",
       "</div>"
      ],
      "text/plain": [
       "   Index        V1        V2        V3        V4        V5        V6  \\\n",
       "0      0  1.755477 -0.860198 -1.629185  0.164162  0.027778 -0.330613   \n",
       "1      1 -0.706506  1.155627  1.132585  2.742101  1.203095  0.013641   \n",
       "2      2  1.043717 -0.928666  0.643312 -2.093695 -0.527878  1.420413   \n",
       "3      3 -4.194074  4.382897 -5.118363  4.455230 -4.812621 -1.224645   \n",
       "4      4  1.187587  0.173589  0.104741  1.143172  0.164552  0.162763   \n",
       "\n",
       "         V7        V8        V9  ...       V20       V21       V22       V23  \\\n",
       "0  0.216770 -0.215280  1.187584  ...  0.135129 -0.122173 -0.503867 -0.063954   \n",
       "1  1.200743 -0.273633 -1.323403  ... -0.281283  0.352723  1.142657 -0.156382   \n",
       "2 -1.053914  0.702897  2.450726  ... -0.264045  0.008873  0.568767  0.070359   \n",
       "3 -7.281328  3.332250 -3.679659  ...  0.579098  1.550473  0.614573  0.028521   \n",
       "4  0.097302  0.001023 -0.013501  ... -0.039666 -0.112873 -0.163529 -0.231334   \n",
       "\n",
       "        V24       V25       V26       V27       V28  Amount  \n",
       "0 -1.047319 -0.016514 -0.039022 -0.058861 -0.035955  186.76  \n",
       "1  1.139391 -0.151635  0.063306 -0.284146 -0.015198   21.18  \n",
       "2 -0.978165  0.258814 -0.726163  0.176843  0.005530    1.00  \n",
       "3  0.013704 -0.149512 -0.131687  0.473934  0.473757   14.46  \n",
       "4 -0.469322  0.832111 -0.312343  0.019521  0.005464   27.00  \n",
       "\n",
       "[5 rows x 30 columns]"
      ]
     },
     "execution_count": 15,
     "metadata": {},
     "output_type": "execute_result"
    }
   ],
   "source": [
    "exam.head()"
   ]
  },
  {
   "cell_type": "code",
   "execution_count": 16,
   "metadata": {},
   "outputs": [],
   "source": [
    "examx=exam.drop(columns=['Index'])"
   ]
  },
  {
   "cell_type": "code",
   "execution_count": 17,
   "metadata": {},
   "outputs": [
    {
     "name": "stdout",
     "output_type": "stream",
     "text": [
      "352\n"
     ]
    }
   ],
   "source": [
    "print(len(examx))"
   ]
  },
  {
   "cell_type": "code",
   "execution_count": 50,
   "metadata": {
    "scrolled": true
   },
   "outputs": [],
   "source": [
    "answers=model.predict(examx)"
   ]
  },
  {
   "cell_type": "code",
   "execution_count": 51,
   "metadata": {
    "scrolled": true
   },
   "outputs": [
    {
     "name": "stdout",
     "output_type": "stream",
     "text": [
      "[0 0 0 1 0 0 0 1 0 0 0 0 0 0 0 0 1 0 0 0 0 0 0 0 0 1 0 0 0 0 0 1 0 0 0 0 0\n",
      " 0 0 0 0 0 0 0 0 0 0 0 0 1 0 0 0 0 0 0 0 0 0 0 0 0 1 1 0 0 0 0 0 0 0 0 0 1\n",
      " 0 0 0 0 0 0 0 0 0 0 0 0 0 0 1 0 0 0 0 0 0 1 0 0 1 0 1 0 0 0 0 0 0 0 0 1 0\n",
      " 0 0 0 0 0 1 0 0 0 0 1 1 0 0 0 0 0 0 0 0 0 0 1 0 0 0 0 1 0 1 0 0 1 0 0 0 0\n",
      " 0 0 0 0 0 0 0 1 0 0 1 0 0 1 0 0 0 1 0 1 0 0 1 0 0 1 0 0 0 0 0 0 0 1 0 0 0\n",
      " 0 0 0 0 0 0 1 0 0 0 0 0 0 1 0 0 0 0 0 0 0 0 0 0 0 0 0 0 1 0 0 0 0 0 0 0 0\n",
      " 0 0 0 0 0 0 0 1 0 0 0 0 0 1 0 0 0 0 0 0 0 0 0 0 0 0 0 0 0 0 0 0 1 0 0 0 0\n",
      " 0 0 0 0 0 0 0 0 0 0 1 0 0 0 0 0 0 0 0 0 0 0 0 0 0 0 0 1 0 0 0 0 1 0 0 0 0\n",
      " 0 0 0 0 0 0 0 0 0 1 1 0 0 0 0 0 0 0 0 1 0 0 1 0 1 0 0 0 1 0 0 1 0 0 0 0 0\n",
      " 0 0 0 0 0 1 0 0 0 0 0 0 0 0 1 0 0 0 0]\n",
      "352\n",
      "47\n"
     ]
    }
   ],
   "source": [
    "print(answers)\n",
    "print(len(answers))\n",
    "ones=0\n",
    "for i in answers:\n",
    "    if i ==1:\n",
    "        ones+=1\n",
    "print(ones)"
   ]
  },
  {
   "cell_type": "code",
   "execution_count": 52,
   "metadata": {},
   "outputs": [],
   "source": [
    "myfile=open(\"/machine_learning_india_ai_challenge-dataset/Submission21-XGB expLoss2.csv\",\"w\")\n",
    "myfile.write(\"Index,Class\\n\")\n",
    "for i in range(len(answers)):\n",
    "    myfile.write(str(i)+\",\"+str(answers[i])+\"\\n\")\n",
    "myfile.close()"
   ]
  }
 ],
 "metadata": {
  "kernelspec": {
   "display_name": "Python 3",
   "language": "python",
   "name": "python3"
  },
  "language_info": {
   "codemirror_mode": {
    "name": "ipython",
    "version": 3
   },
   "file_extension": ".py",
   "mimetype": "text/x-python",
   "name": "python",
   "nbconvert_exporter": "python",
   "pygments_lexer": "ipython3",
   "version": "3.7.7"
  }
 },
 "nbformat": 4,
 "nbformat_minor": 4
}
