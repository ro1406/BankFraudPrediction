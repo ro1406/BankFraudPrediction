{
 "cells": [
  {
   "cell_type": "markdown",
   "metadata": {},
   "source": [
    "# MLI Bank Fraud Prediction Neural Network"
   ]
  },
  {
   "cell_type": "code",
   "execution_count": 8,
   "metadata": {},
   "outputs": [],
   "source": [
    "import pandas as pd"
   ]
  },
  {
   "cell_type": "code",
   "execution_count": 9,
   "metadata": {},
   "outputs": [],
   "source": [
    "mydf=pd.read_csv(\"/machine_learning_india_ai_challenge-dataset/CLEANED Training data - Python.csv\")"
   ]
  },
  {
   "cell_type": "code",
   "execution_count": 11,
   "metadata": {},
   "outputs": [],
   "source": [
    "x=mydf.drop(columns=['Class'])#'Index','Class'])\n",
    "y=mydf['Class']"
   ]
  },
  {
   "cell_type": "code",
   "execution_count": 12,
   "metadata": {},
   "outputs": [],
   "source": [
    "from imblearn.combine import SMOTETomek\n",
    "smk=SMOTETomek()\n",
    "x_res,y_res=smk.fit_sample(x,y)"
   ]
  },
  {
   "cell_type": "code",
   "execution_count": 13,
   "metadata": {},
   "outputs": [],
   "source": [
    "from sklearn.model_selection import train_test_split\n",
    "xtrain,xtest,ytrain,ytest=train_test_split(x_res,y_res,test_size=0.2)"
   ]
  },
  {
   "cell_type": "markdown",
   "metadata": {},
   "source": [
    "# Neural Network Time!"
   ]
  },
  {
   "cell_type": "code",
   "execution_count": 14,
   "metadata": {},
   "outputs": [],
   "source": [
    "import tensorflow as tf"
   ]
  },
  {
   "cell_type": "code",
   "execution_count": 86,
   "metadata": {},
   "outputs": [],
   "source": [
    "model = tf.keras.models.Sequential([\n",
    "  tf.keras.layers.Flatten(input_shape=(xtrain.shape[1], )), \n",
    "  tf.keras.layers.Dense(512, activation='softmax'),\n",
    "  tf.keras.layers.Dropout(0.2), #1/Epochs, prevent overfitting \n",
    "  tf.keras.layers.Dense(58, activation='softmax'),\n",
    "  tf.keras.layers.Dropout(0.2),\n",
    "  tf.keras.layers.Dense(2, activation='sigmoid')\n",
    "])"
   ]
  },
  {
   "cell_type": "code",
   "execution_count": 87,
   "metadata": {},
   "outputs": [],
   "source": [
    "model.compile(optimizer='adam', #Training procedure\n",
    "              loss='sparse_categorical_crossentropy', #What to minmize\n",
    "              metrics=['accuracy'])"
   ]
  },
  {
   "cell_type": "code",
   "execution_count": 88,
   "metadata": {},
   "outputs": [
    {
     "name": "stdout",
     "output_type": "stream",
     "text": [
      "Epoch 1/5\n",
      "12324/12324 [==============================] - 29s 2ms/step - loss: 0.1309 - accuracy: 0.9661\n",
      "Epoch 2/5\n",
      "12324/12324 [==============================] - 29s 2ms/step - loss: 0.0477 - accuracy: 0.9838\n",
      "Epoch 3/5\n",
      "12324/12324 [==============================] - 28s 2ms/step - loss: 0.0394 - accuracy: 0.9867\n",
      "Epoch 4/5\n",
      "12324/12324 [==============================] - 29s 2ms/step - loss: 0.0324 - accuracy: 0.9890\n",
      "Epoch 5/5\n",
      "12324/12324 [==============================] - 29s 2ms/step - loss: 0.0300 - accuracy: 0.9901\n"
     ]
    },
    {
     "data": {
      "text/plain": [
       "<tensorflow.python.keras.callbacks.History at 0x12d22a0c1c8>"
      ]
     },
     "execution_count": 88,
     "metadata": {},
     "output_type": "execute_result"
    }
   ],
   "source": [
    "model.fit(xtrain, ytrain, epochs=5) #Epoch= no.times to test each image"
   ]
  },
  {
   "cell_type": "code",
   "execution_count": 89,
   "metadata": {
    "scrolled": true
   },
   "outputs": [
    {
     "name": "stdout",
     "output_type": "stream",
     "text": [
      "3081/3081 [==============================] - 4s 1ms/step - loss: 0.0140 - accuracy: 0.9938\n"
     ]
    }
   ],
   "source": [
    "model.evaluate(xtest, ytest)\n",
    "\n",
    "preds=model.predict(xtest)"
   ]
  },
  {
   "cell_type": "code",
   "execution_count": 90,
   "metadata": {},
   "outputs": [
    {
     "name": "stdout",
     "output_type": "stream",
     "text": [
      "98586\n"
     ]
    }
   ],
   "source": [
    "realpreds=[]\n",
    "for row in preds:\n",
    "    if row[0]>row[1]:\n",
    "        realpreds.append(0)\n",
    "    else:\n",
    "        realpreds.append(1)\n",
    "print(len(realpreds))"
   ]
  },
  {
   "cell_type": "code",
   "execution_count": 91,
   "metadata": {},
   "outputs": [
    {
     "name": "stdout",
     "output_type": "stream",
     "text": [
      "98586\n"
     ]
    }
   ],
   "source": [
    "print(len(ytest))"
   ]
  },
  {
   "cell_type": "code",
   "execution_count": 92,
   "metadata": {},
   "outputs": [
    {
     "name": "stdout",
     "output_type": "stream",
     "text": [
      "Confusion matrix:\n",
      " tf.Tensor(\n",
      "[[48875   411]\n",
      " [  199 49101]], shape=(2, 2), dtype=int32)\n",
      "AUROC:\n",
      "0.9938122\n"
     ]
    }
   ],
   "source": [
    "confmat=tf.math.confusion_matrix(ytest,realpreds)\n",
    "print(\"Confusion matrix:\\n\",confmat)\n",
    "\n",
    "aucroc=tf.keras.metrics.AUC(num_thresholds=200, curve='ROC',summation_method='interpolation')\n",
    "aucroc.update_state(ytest,realpreds)\n",
    "import numpy\n",
    "print(\"AUROC:\")\n",
    "print(aucroc.result().numpy())\n"
   ]
  },
  {
   "cell_type": "markdown",
   "metadata": {},
   "source": [
    "# Exam time!"
   ]
  },
  {
   "cell_type": "code",
   "execution_count": 93,
   "metadata": {},
   "outputs": [],
   "source": [
    "exam=pd.read_csv(\"/machine_learning_india_ai_challenge-dataset/TEST.csv\")"
   ]
  },
  {
   "cell_type": "code",
   "execution_count": 94,
   "metadata": {},
   "outputs": [],
   "source": [
    "examx=exam.drop(columns=['Index'])"
   ]
  },
  {
   "cell_type": "code",
   "execution_count": 95,
   "metadata": {},
   "outputs": [],
   "source": [
    "answers=model.predict(examx)"
   ]
  },
  {
   "cell_type": "code",
   "execution_count": 96,
   "metadata": {},
   "outputs": [
    {
     "name": "stdout",
     "output_type": "stream",
     "text": [
      "352\n",
      "53\n"
     ]
    }
   ],
   "source": [
    "realanswers=[]\n",
    "for row in answers:\n",
    "    if row[0]>row[1]:\n",
    "        realanswers.append(0)\n",
    "    else:\n",
    "        realanswers.append(1)\n",
    "print(len(realanswers))\n",
    "\n",
    "ones=0\n",
    "for i in realanswers:\n",
    "    if i ==1:\n",
    "        ones+=1\n",
    "print(ones)\n"
   ]
  },
  {
   "cell_type": "code",
   "execution_count": 97,
   "metadata": {},
   "outputs": [],
   "source": [
    "myfile=open(\"/machine_learning_india_ai_challenge-dataset/Submission10-Cleaned+NN2.csv\",\"w\")\n",
    "myfile.write(\"Index,Class\\n\")\n",
    "for i in range(len(realanswers)):\n",
    "    myfile.write(str(i)+\",\"+str(realanswers[i])+\"\\n\")\n",
    "myfile.close()"
   ]
  },
  {
   "cell_type": "code",
   "execution_count": null,
   "metadata": {},
   "outputs": [],
   "source": []
  }
 ],
 "metadata": {
  "kernelspec": {
   "display_name": "Python 3",
   "language": "python",
   "name": "python3"
  },
  "language_info": {
   "codemirror_mode": {
    "name": "ipython",
    "version": 3
   },
   "file_extension": ".py",
   "mimetype": "text/x-python",
   "name": "python",
   "nbconvert_exporter": "python",
   "pygments_lexer": "ipython3",
   "version": "3.7.7"
  }
 },
 "nbformat": 4,
 "nbformat_minor": 4
}
